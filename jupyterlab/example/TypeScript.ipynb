{
 "cells": [
  {
   "cell_type": "markdown",
   "id": "45ac42f7-d88b-40aa-9ea8-3159567123a8",
   "metadata": {},
   "source": [
    "# TypeScript Jupyter Notebook\n",
    "TypeScript Jupyter Notebook\n",
    "\n",
    "Code can be ran directly in the notebook"
   ]
  },
  {
   "cell_type": "code",
   "execution_count": 1,
   "id": "91315897-029d-40f0-b4f9-138283f7026d",
   "metadata": {},
   "outputs": [
    {
     "name": "stdout",
     "output_type": "stream",
     "text": [
      "Hello there\n"
     ]
    }
   ],
   "source": [
    "console.log('Hello there');"
   ]
  },
  {
   "cell_type": "code",
   "execution_count": 3,
   "id": "dc975359-d99d-41bc-86f9-1051f60fa872",
   "metadata": {},
   "outputs": [
    {
     "name": "stdout",
     "output_type": "stream",
     "text": [
      "Hello\n"
     ]
    }
   ],
   "source": [
    "const sayHello = () => { console.log('Hello'); };\n",
    "\n",
    "sayHello();"
   ]
  },
  {
   "cell_type": "code",
   "execution_count": 4,
   "id": "fe578d13-711b-4f72-b642-83c43a8ed847",
   "metadata": {},
   "outputs": [
    {
     "name": "stdout",
     "output_type": "stream",
     "text": [
      "Versions { tslab: '1.0.15', typescript: '4.1.2', node: 'v16.14.2' }\n"
     ]
    }
   ],
   "source": [
    "import * as tslab from 'tslab';\n",
    "\n",
    "console.log('Versions', tslab.versions);"
   ]
  },
  {
   "cell_type": "code",
   "execution_count": 5,
   "id": "9aff2b40-45ba-4b73-b868-5e64a74c2fe9",
   "metadata": {},
   "outputs": [
    {
     "data": {
      "text/html": [
       "Hello <span style=\"color:#007ACC;font-size:x-large\"><b>Type</b>Script</span>!"
      ]
     },
     "metadata": {},
     "output_type": "display_data"
    }
   ],
   "source": [
    "tslab.display.html('Hello <span style=\"color:#007ACC;font-size:x-large\"><b>Type</b>Script</span>!')"
   ]
  },
  {
   "cell_type": "code",
   "execution_count": null,
   "id": "76d3d64b-f4d7-415a-9624-9a6b4543c645",
   "metadata": {},
   "outputs": [],
   "source": []
  }
 ],
 "metadata": {
  "kernelspec": {
   "display_name": "TypeScript",
   "language": "typescript",
   "name": "tslab"
  },
  "language_info": {
   "codemirror_mode": {
    "mode": "typescript",
    "name": "javascript",
    "typescript": true
   },
   "file_extension": ".ts",
   "mimetype": "text/typescript",
   "name": "typescript",
   "version": "3.7.2"
  }
 },
 "nbformat": 4,
 "nbformat_minor": 5
}
